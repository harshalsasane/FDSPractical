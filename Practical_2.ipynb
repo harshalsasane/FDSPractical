{
  "nbformat": 4,
  "nbformat_minor": 0,
  "metadata": {
    "colab": {
      "name": "Practical 3",
      "provenance": [],
      "authorship_tag": "ABX9TyMu8ETPIXYdi6RMzF/GSJeg",
      "include_colab_link": true
    },
    "kernelspec": {
      "name": "python3",
      "display_name": "Python 3"
    },
    "language_info": {
      "name": "python"
    }
  },
  "cells": [
    {
      "cell_type": "markdown",
      "metadata": {
        "id": "view-in-github",
        "colab_type": "text"
      },
      "source": [
        "<a href=\"https://colab.research.google.com/github/harshalsasane/Practical1/blob/master/Practical_2.ipynb\" target=\"_parent\"><img src=\"https://colab.research.google.com/assets/colab-badge.svg\" alt=\"Open In Colab\"/></a>"
      ]
    },
    {
      "cell_type": "code",
      "metadata": {
        "colab": {
          "base_uri": "https://localhost:8080/"
        },
        "id": "An7oEmcmvbl-",
        "outputId": "cfbc1166-8da3-4e10-f1e2-aa128309e50b"
      },
      "source": [
        "total = 0\n",
        "while True:\n",
        "    d_w_trans = input()\n",
        "    if d_w_trans == \"\":\n",
        "        break\n",
        "    else:\n",
        "        d_w_trans = d_w_trans.split(\" \")\n",
        "        if d_w_trans[0] == \"D\":\n",
        "            total = total + int(d_w_trans[1])\n",
        "        elif d_w_trans[0] == \"W\":\n",
        "            total = total - int(d_w_trans[1])\n",
        "\n",
        "print(total)"
      ],
      "execution_count": null,
      "outputs": [
        {
          "output_type": "stream",
          "name": "stdout",
          "text": [
            "D 200\n",
            "D 200\n",
            "W 100\n",
            "\n",
            "300\n"
          ]
        }
      ]
    }
  ]
}