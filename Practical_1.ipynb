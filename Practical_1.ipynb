{
  "nbformat": 4,
  "nbformat_minor": 0,
  "metadata": {
    "colab": {
      "name": "Untitled2.ipynb",
      "provenance": [],
      "authorship_tag": "ABX9TyNB6Hweoqv7IkIP+W4qFOZG",
      "include_colab_link": true
    },
    "kernelspec": {
      "name": "python3",
      "display_name": "Python 3"
    },
    "language_info": {
      "name": "python"
    }
  },
  "cells": [
    {
      "cell_type": "markdown",
      "metadata": {
        "id": "view-in-github",
        "colab_type": "text"
      },
      "source": [
        "<a href=\"https://colab.research.google.com/github/harshalsasane/Practical1/blob/master/Practical_1.ipynb\" target=\"_parent\"><img src=\"https://colab.research.google.com/assets/colab-badge.svg\" alt=\"Open In Colab\"/></a>"
      ]
    },
    {
      "cell_type": "code",
      "metadata": {
        "colab": {
          "base_uri": "https://localhost:8080/"
        },
        "id": "aRccx02jIwEC",
        "outputId": "99f3d9c1-5f5e-4d83-cb49-39c9d2cdc0ae"
      },
      "source": [
        "n=int(input(\"enter number of students \\t\"))\n",
        "s=[]\n",
        "for i in range(n):\n",
        "    marks=int(input(f\"enter marks of {i+1}\\t\"))\n",
        "    s.append(marks)\n",
        "print(\"the list of marks of student is \",s)\n",
        "def average(num):\n",
        "    sumnum = 0\n",
        "    count=0\n",
        "    for i in num:\n",
        "        sumnum =i+sumnum  \n",
        "        count=count+1\n",
        "\n",
        "    avg = sumnum / count\n",
        "    return avg\n",
        "def max():\n",
        "         max_value = None\n",
        "         if i !=-999:\n",
        "              for num in s:\n",
        "                 if (max_value is None or num > max_value):\n",
        "                    max_value = num\n",
        "         print('The max marks is:', max_value)\n",
        "def min():\n",
        "         mini = s[0]\n",
        "         for i in range(len(s)):\n",
        "                if s[i] < mini:\n",
        "                    mini = s[i] \n",
        "         print(\"The least marks is \",mini)\n",
        "\n",
        "def f():\n",
        "        max = 0\n",
        "        res = s[0]\n",
        "        count=0\n",
        "    \n",
        "        for i in s:\n",
        "            for j in range(1,len(s)):\n",
        "                if (s[j] == s[j - 1]):\n",
        "                    count=count+1\n",
        "                    if count> max:\n",
        "                        max = count\n",
        "                        res = s[j-1]\n",
        "            return res\n",
        "            \n",
        "    \n",
        "\n",
        "def absent():\n",
        "            \n",
        "            ab=0\n",
        "            for i in s:\n",
        "                if i ==-999:\n",
        "                     ab=ab+1\n",
        "                else:\n",
        "                    pass\n",
        "                    \n",
        "            print(\"The number of absent students are\",ab)\n",
        "     \n",
        "            \n",
        "avg=average(s)\n",
        "print(\"the average of students is\",avg)\n",
        "max()\n",
        "min()\n",
        "print(\"The most frequent marks is\",f())\n",
        "absent()"
      ],
      "execution_count": 1,
      "outputs": [
        {
          "output_type": "stream",
          "name": "stdout",
          "text": [
            "enter number of students \t3\n",
            "enter marks of 1\t11\n",
            "enter marks of 2\t15\n",
            "enter marks of 3\t28\n",
            "the list of marks of student is  [11, 15, 28]\n",
            "the average of students is 18.0\n",
            "The max marks is: 28\n",
            "The least marks is  11\n",
            "The most frequent marks is 11\n",
            "The number of absent students are 0\n"
          ]
        }
      ]
    }
  ]
}